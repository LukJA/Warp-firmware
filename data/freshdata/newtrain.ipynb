{
 "cells": [
  {
   "cell_type": "code",
   "execution_count": 26,
   "metadata": {},
   "outputs": [],
   "source": [
    "import numpy as np # linear algebra\n",
    "import pandas as pd # data processing, CSV file I/O (e.g. pd.read_csv)\n",
    "import matplotlib.pyplot as plt # for data visualization purposes\n",
    "import seaborn as sns # for statistical data visualization\n",
    "import math\n",
    "%matplotlib inline"
   ]
  },
  {
   "attachments": {},
   "cell_type": "markdown",
   "metadata": {},
   "source": [
    "# Import Training Data"
   ]
  },
  {
   "cell_type": "code",
   "execution_count": 27,
   "metadata": {},
   "outputs": [],
   "source": [
    "none1 = pd.read_csv(\"none1.csv\")\n",
    "none2 = pd.read_csv(\"none2.csv\")\n",
    "none3 = pd.read_csv(\"none3.csv\")\n",
    "none1['Class']='0'\n",
    "none2['Class']='0'\n",
    "none3['Class']='0'\n",
    "walking1 = pd.read_csv(\"walking1.csv\")\n",
    "walking2 = pd.read_csv(\"walking2.csv\")\n",
    "walking1['Class']='1'\n",
    "walking2['Class']='1'\n",
    "test = pd.read_csv(\"test.csv\")\n"
   ]
  },
  {
   "cell_type": "code",
   "execution_count": 28,
   "metadata": {},
   "outputs": [
    {
     "data": {
      "text/html": [
       "<div>\n",
       "<style scoped>\n",
       "    .dataframe tbody tr th:only-of-type {\n",
       "        vertical-align: middle;\n",
       "    }\n",
       "\n",
       "    .dataframe tbody tr th {\n",
       "        vertical-align: top;\n",
       "    }\n",
       "\n",
       "    .dataframe thead th {\n",
       "        text-align: right;\n",
       "    }\n",
       "</style>\n",
       "<table border=\"1\" class=\"dataframe\">\n",
       "  <thead>\n",
       "    <tr style=\"text-align: right;\">\n",
       "      <th></th>\n",
       "      <th>E(X) LP</th>\n",
       "      <th>E(Y) LP</th>\n",
       "      <th>E(Z) LP</th>\n",
       "      <th>E(X) HP</th>\n",
       "      <th>E(Y) HP</th>\n",
       "      <th>E(Z) HP</th>\n",
       "      <th>Var HP X</th>\n",
       "      <th>Var HP Y</th>\n",
       "      <th>Var HP Z</th>\n",
       "      <th>MinMax X</th>\n",
       "      <th>MinMax Y</th>\n",
       "      <th>MinMax Z</th>\n",
       "      <th>Class</th>\n",
       "    </tr>\n",
       "  </thead>\n",
       "  <tbody>\n",
       "    <tr>\n",
       "      <th>0</th>\n",
       "      <td>253.17</td>\n",
       "      <td>2039.69</td>\n",
       "      <td>142.70</td>\n",
       "      <td>87.38</td>\n",
       "      <td>0.80</td>\n",
       "      <td>-11.97</td>\n",
       "      <td>3330.57</td>\n",
       "      <td>376.19</td>\n",
       "      <td>1155.41</td>\n",
       "      <td>265.93</td>\n",
       "      <td>154.55</td>\n",
       "      <td>157.21</td>\n",
       "      <td>0</td>\n",
       "    </tr>\n",
       "    <tr>\n",
       "      <th>1</th>\n",
       "      <td>254.61</td>\n",
       "      <td>2039.91</td>\n",
       "      <td>142.52</td>\n",
       "      <td>88.20</td>\n",
       "      <td>0.64</td>\n",
       "      <td>-11.95</td>\n",
       "      <td>3229.35</td>\n",
       "      <td>377.95</td>\n",
       "      <td>1155.94</td>\n",
       "      <td>265.93</td>\n",
       "      <td>154.55</td>\n",
       "      <td>157.21</td>\n",
       "      <td>0</td>\n",
       "    </tr>\n",
       "    <tr>\n",
       "      <th>2</th>\n",
       "      <td>256.03</td>\n",
       "      <td>2040.12</td>\n",
       "      <td>142.34</td>\n",
       "      <td>87.23</td>\n",
       "      <td>0.27</td>\n",
       "      <td>-12.03</td>\n",
       "      <td>3234.68</td>\n",
       "      <td>376.96</td>\n",
       "      <td>1147.84</td>\n",
       "      <td>265.93</td>\n",
       "      <td>154.55</td>\n",
       "      <td>157.21</td>\n",
       "      <td>0</td>\n",
       "    </tr>\n",
       "    <tr>\n",
       "      <th>3</th>\n",
       "      <td>257.42</td>\n",
       "      <td>2040.33</td>\n",
       "      <td>142.17</td>\n",
       "      <td>84.58</td>\n",
       "      <td>0.25</td>\n",
       "      <td>-12.07</td>\n",
       "      <td>2980.88</td>\n",
       "      <td>377.41</td>\n",
       "      <td>1145.10</td>\n",
       "      <td>265.93</td>\n",
       "      <td>154.55</td>\n",
       "      <td>157.21</td>\n",
       "      <td>0</td>\n",
       "    </tr>\n",
       "    <tr>\n",
       "      <th>4</th>\n",
       "      <td>258.76</td>\n",
       "      <td>2040.55</td>\n",
       "      <td>141.97</td>\n",
       "      <td>81.68</td>\n",
       "      <td>0.73</td>\n",
       "      <td>-13.09</td>\n",
       "      <td>2593.79</td>\n",
       "      <td>349.34</td>\n",
       "      <td>1023.29</td>\n",
       "      <td>203.33</td>\n",
       "      <td>84.35</td>\n",
       "      <td>117.18</td>\n",
       "      <td>0</td>\n",
       "    </tr>\n",
       "    <tr>\n",
       "      <th>...</th>\n",
       "      <td>...</td>\n",
       "      <td>...</td>\n",
       "      <td>...</td>\n",
       "      <td>...</td>\n",
       "      <td>...</td>\n",
       "      <td>...</td>\n",
       "      <td>...</td>\n",
       "      <td>...</td>\n",
       "      <td>...</td>\n",
       "      <td>...</td>\n",
       "      <td>...</td>\n",
       "      <td>...</td>\n",
       "      <td>...</td>\n",
       "    </tr>\n",
       "    <tr>\n",
       "      <th>32</th>\n",
       "      <td>78.00</td>\n",
       "      <td>1761.00</td>\n",
       "      <td>561.00</td>\n",
       "      <td>-335.00</td>\n",
       "      <td>198.00</td>\n",
       "      <td>-112.00</td>\n",
       "      <td>120043.00</td>\n",
       "      <td>146102.00</td>\n",
       "      <td>121364.00</td>\n",
       "      <td>-1155.00</td>\n",
       "      <td>-732.00</td>\n",
       "      <td>-785.00</td>\n",
       "      <td>1</td>\n",
       "    </tr>\n",
       "    <tr>\n",
       "      <th>33</th>\n",
       "      <td>-1.00</td>\n",
       "      <td>2464.00</td>\n",
       "      <td>871.00</td>\n",
       "      <td>-236.00</td>\n",
       "      <td>-441.00</td>\n",
       "      <td>-471.00</td>\n",
       "      <td>200704.00</td>\n",
       "      <td>196391.00</td>\n",
       "      <td>108648.00</td>\n",
       "      <td>-1333.00</td>\n",
       "      <td>-1418.00</td>\n",
       "      <td>-1210.00</td>\n",
       "      <td>1</td>\n",
       "    </tr>\n",
       "    <tr>\n",
       "      <th>34</th>\n",
       "      <td>-243.00</td>\n",
       "      <td>1444.00</td>\n",
       "      <td>617.00</td>\n",
       "      <td>-100.00</td>\n",
       "      <td>535.00</td>\n",
       "      <td>-208.00</td>\n",
       "      <td>160755.00</td>\n",
       "      <td>213965.00</td>\n",
       "      <td>105092.00</td>\n",
       "      <td>-1175.00</td>\n",
       "      <td>-350.00</td>\n",
       "      <td>-1068.00</td>\n",
       "      <td>1</td>\n",
       "    </tr>\n",
       "    <tr>\n",
       "      <th>35</th>\n",
       "      <td>-310.00</td>\n",
       "      <td>2152.00</td>\n",
       "      <td>276.00</td>\n",
       "      <td>-30.00</td>\n",
       "      <td>-179.00</td>\n",
       "      <td>124.00</td>\n",
       "      <td>149082.00</td>\n",
       "      <td>194334.00</td>\n",
       "      <td>72181.00</td>\n",
       "      <td>-1113.00</td>\n",
       "      <td>-963.00</td>\n",
       "      <td>-629.00</td>\n",
       "      <td>1</td>\n",
       "    </tr>\n",
       "    <tr>\n",
       "      <th>36</th>\n",
       "      <td>-640.00</td>\n",
       "      <td>1770.00</td>\n",
       "      <td>653.00</td>\n",
       "      <td>-241.00</td>\n",
       "      <td>-515.00</td>\n",
       "      <td>486.00</td>\n",
       "      <td>251154.00</td>\n",
       "      <td>150094.00</td>\n",
       "      <td>318157.00</td>\n",
       "      <td>-1685.00</td>\n",
       "      <td>-1352.00</td>\n",
       "      <td>-397.00</td>\n",
       "      <td>1</td>\n",
       "    </tr>\n",
       "  </tbody>\n",
       "</table>\n",
       "<p>413 rows × 13 columns</p>\n",
       "</div>"
      ],
      "text/plain": [
       "    E(X) LP  E(Y) LP  E(Z) LP  E(X) HP  E(Y) HP  E(Z) HP   Var HP X  \\\n",
       "0    253.17  2039.69   142.70    87.38     0.80   -11.97    3330.57   \n",
       "1    254.61  2039.91   142.52    88.20     0.64   -11.95    3229.35   \n",
       "2    256.03  2040.12   142.34    87.23     0.27   -12.03    3234.68   \n",
       "3    257.42  2040.33   142.17    84.58     0.25   -12.07    2980.88   \n",
       "4    258.76  2040.55   141.97    81.68     0.73   -13.09    2593.79   \n",
       "..      ...      ...      ...      ...      ...      ...        ...   \n",
       "32    78.00  1761.00   561.00  -335.00   198.00  -112.00  120043.00   \n",
       "33    -1.00  2464.00   871.00  -236.00  -441.00  -471.00  200704.00   \n",
       "34  -243.00  1444.00   617.00  -100.00   535.00  -208.00  160755.00   \n",
       "35  -310.00  2152.00   276.00   -30.00  -179.00   124.00  149082.00   \n",
       "36  -640.00  1770.00   653.00  -241.00  -515.00   486.00  251154.00   \n",
       "\n",
       "     Var HP Y   Var HP Z  MinMax X  MinMax Y  MinMax Z Class  \n",
       "0      376.19    1155.41    265.93    154.55    157.21     0  \n",
       "1      377.95    1155.94    265.93    154.55    157.21     0  \n",
       "2      376.96    1147.84    265.93    154.55    157.21     0  \n",
       "3      377.41    1145.10    265.93    154.55    157.21     0  \n",
       "4      349.34    1023.29    203.33     84.35    117.18     0  \n",
       "..        ...        ...       ...       ...       ...   ...  \n",
       "32  146102.00  121364.00  -1155.00   -732.00   -785.00     1  \n",
       "33  196391.00  108648.00  -1333.00  -1418.00  -1210.00     1  \n",
       "34  213965.00  105092.00  -1175.00   -350.00  -1068.00     1  \n",
       "35  194334.00   72181.00  -1113.00   -963.00   -629.00     1  \n",
       "36  150094.00  318157.00  -1685.00  -1352.00   -397.00     1  \n",
       "\n",
       "[413 rows x 13 columns]"
      ]
     },
     "execution_count": 28,
     "metadata": {},
     "output_type": "execute_result"
    }
   ],
   "source": [
    "# Combine Data\n",
    "df = pd.concat([none1, none2,none3, walking1, walking2])\n",
    "df"
   ]
  },
  {
   "cell_type": "code",
   "execution_count": 29,
   "metadata": {},
   "outputs": [
    {
     "data": {
      "text/plain": [
       "((289, 12), (124, 12))"
      ]
     },
     "execution_count": 29,
     "metadata": {},
     "output_type": "execute_result"
    }
   ],
   "source": [
    "X = df.drop(['Class'], axis=1)\n",
    "y = df['Class']\n",
    "from sklearn.model_selection import train_test_split\n",
    "X_train, X_test, y_train, y_test = train_test_split(X, y, test_size = 0.3, random_state = 0)\n",
    "X_train.shape, X_test.shape"
   ]
  },
  {
   "cell_type": "code",
   "execution_count": 92,
   "metadata": {},
   "outputs": [
    {
     "name": "stdout",
     "output_type": "stream",
     "text": [
      "Model accuracy score: 0.9758\n",
      "Training-set accuracy score: 0.9827\n"
     ]
    }
   ],
   "source": [
    "# train a Gaussian Naive Bayes classifier on the training set\n",
    "from sklearn.naive_bayes import GaussianNB\n",
    "from sklearn.metrics import accuracy_score\n",
    "\n",
    "# instantiate the model\n",
    "gnb = GaussianNB(priors=[0.99, 0.01])\n",
    "\n",
    "# fit the model\n",
    "gnb.fit(X_train, y_train)\n",
    "\n",
    "# Test it\n",
    "y_pred = gnb.predict(X_test)\n",
    "print('Model accuracy score: {0:0.4f}'. format(accuracy_score(y_test, y_pred)))\n",
    "\n",
    "y_pred_train = gnb.predict(X_train)\n",
    "print('Training-set accuracy score: {0:0.4f}'. format(accuracy_score(y_train, y_pred_train)))"
   ]
  },
  {
   "cell_type": "code",
   "execution_count": 93,
   "metadata": {},
   "outputs": [
    {
     "name": "stdout",
     "output_type": "stream",
     "text": [
      "0    98\n",
      "1    26\n",
      "Name: Class, dtype: int64\n",
      "Null accuracy score: 0.6250\n"
     ]
    }
   ],
   "source": [
    "print(y_test.value_counts())\n",
    "null_accuracy = (5/(5+3))\n",
    "print('Null accuracy score: {0:0.4f}'. format(null_accuracy))"
   ]
  },
  {
   "attachments": {},
   "cell_type": "markdown",
   "metadata": {},
   "source": [
    "## Approximations"
   ]
  },
  {
   "cell_type": "code",
   "execution_count": 94,
   "metadata": {},
   "outputs": [
    {
     "name": "stdout",
     "output_type": "stream",
     "text": [
      "0 0\n",
      "[     133794     1036763     1025675        4884        2725       15425\n",
      " 11747214426   506672497 23217683260      235119       39715       50918]\n",
      "[     120848      107584       49944       62410      107304       47121\n",
      "  4399865843 15504790255  4882230592      151342      195256      151884]\n",
      "[ -103   933  1004     8    -6     2 12711  2889 17488   -24   -17   -13]\n",
      "[   -19   1956    479     18     10     -4 168208 269831 118371  -1077\n",
      "   -994   -740]\n",
      "-94\n",
      "-94\n",
      "\n"
     ]
    }
   ],
   "source": [
    "# precomputions\n",
    "class_0_prior,class_1_prior = gnb.class_prior_[0], gnb.class_prior_[1]\n",
    "theta_0, theta_1 = gnb.theta_[0, :], gnb.theta_[1, :]\n",
    "var_0, var_1 = gnb.var_[0, :], gnb.var_[1, :]\n",
    "jointi_0 = np.log(class_0_prior)\n",
    "jointi_1 = np.log(class_1_prior)\n",
    "nij_0_p = -0.5*np.sum(np.log(2.0 * np.pi * var_0)) \n",
    "nij_1_p = -0.5*np.sum(np.log(2.0 * np.pi * var_1))\n",
    "\n",
    "## Approximations\n",
    "var_0, var_1 = np.int0(var_0), np.int0(var_1)\n",
    "theta_0, theta_1 = np.int0(theta_0), np.int0(theta_1)\n",
    "nij_0_p = np.int0(nij_0_p)\n",
    "nij_1_p = np.int0(nij_1_p)\n",
    "jointi_0, jointi_1 = 0, 0\n",
    "\n",
    "print(jointi_0, jointi_1) \n",
    "print(var_0)\n",
    "print(var_1)\n",
    "print(theta_0)\n",
    "print(theta_1)\n",
    "print(nij_0_p)\n",
    "print(nij_0_p)\n",
    "print(\"\")"
   ]
  },
  {
   "cell_type": "code",
   "execution_count": 95,
   "metadata": {},
   "outputs": [],
   "source": [
    "## Test Data\n",
    "walking_test = walking2.drop(['Class'], axis=1).tail(1)\n",
    "none_test = none2.drop(['Class'], axis=1).tail(1)"
   ]
  },
  {
   "attachments": {},
   "cell_type": "markdown",
   "metadata": {},
   "source": [
    "## Approximated Math without logarithms \n",
    "\n",
    "- For Feature Values $0 \\rightarrow n$ = $X_n$ integers\n",
    "- For Class 0 (other) Variance $V_{0n}$, Theta $\\Theta_{0n}$, Baseline $N_0$\n",
    "- For Class 0 (other) Variance $V_{1n}$, Theta $\\Theta_{1n}$, Baseline $N_1$\n",
    "- With a joint distribution set to 0 each\n",
    "\n",
    "$ N_{0ij} = N_0 - \\frac{1}{2} \\sum_n (X_n - \\Theta_{0n})^2 / V_{0n}$ \n",
    "\n",
    "$ N_{1ij} = N_1 - \\frac{1}{2} \\sum_n (X_n - \\Theta_{1n})^2 / V_{1n}$\n",
    "\n",
    "$ P_{1L} = N_{1ij} - MAX(N_{0ij}, N_{1ij})$\n",
    "\n",
    "$ P_1 = exp\\{ P_{1L} \\}$\n",
    "\n",
    "\n",
    "\n",
    "\n"
   ]
  },
  {
   "cell_type": "code",
   "execution_count": 96,
   "metadata": {},
   "outputs": [
    {
     "name": "stdout",
     "output_type": "stream",
     "text": [
      "-- Approximate Result\n",
      "P(Walking) = 1.00, P(log) = 0.00\n",
      "-- Approximate Result\n",
      "P(Walking) = 0.00, P(log) = -47.00\n"
     ]
    }
   ],
   "source": [
    "def test_A(X):\n",
    "    # Class 0\n",
    "    n_ij_0 = np.int0(nij_0_p - 0.5*np.sum(((X - theta_0) ** 2) / (var_0), 1))\n",
    "\n",
    "    # Class 1\n",
    "    n_ij_1 = np.int0(nij_1_p - 0.5 * np.sum(((X - theta_1) ** 2) / (var_1), 1))\n",
    "\n",
    "    p_walk_log = int(n_ij_1  - max(n_ij_1[0], n_ij_0[0]))\n",
    "\n",
    "    p_walk = math.exp(p_walk_log)\n",
    "\n",
    "    if (nij_0_p == np.int0(nij_0_p)):\n",
    "        print(\"-- Approximate Result\")\n",
    "        \n",
    "    print(f\"P(Walking) = {p_walk:.2f}, P(log) = {p_walk_log:.2f}\")\n",
    "\n",
    "test_A(walking_test)\n",
    "test_A(none_test)"
   ]
  },
  {
   "cell_type": "code",
   "execution_count": 97,
   "metadata": {},
   "outputs": [
    {
     "name": "stdout",
     "output_type": "stream",
     "text": [
      "Walking\n",
      "P(Walking) = 1.00, PLL(W) = 0.00\n",
      "P(Walking) = 0.00, PLL(W) = -47.32\n",
      "-9400\n",
      "[1337, 10367, 10256, 48, 27, 154, 117472144, 5066724, 232176832, 2351, 397, 509]\n",
      "[-103, 933, 1004, 8, -6, 2, 12711, 2889, 17488, -24, -17, -13]\n",
      "-9600\n",
      "[1208, 1075, 499, 624, 1073, 471, 43998658, 155047902, 48822305, 1513, 1952, 1518]\n",
      "[-19, 1956, 479, 18, 10, -4, 168208, 269831, 118371, -1077, -994, -740]\n"
     ]
    }
   ],
   "source": [
    "nij_0_p_X = nij_0_p*100\n",
    "nij_1_p_X = nij_1_p*100\n",
    "var_0_X = np.int0(var_0 / 100)\n",
    "var_1_X = np.int0(var_1 / 100)\n",
    "\n",
    "\n",
    "def test_A_X(X):\n",
    "    # Class 0\n",
    "    n_ij_0 = np.int0(nij_0_p_X - 0.5*np.sum(((X - theta_0) ** 2) / (var_0_X), 1))\n",
    "\n",
    "    # Class 1\n",
    "    n_ij_1 = np.int0(nij_1_p_X - 0.5 * np.sum(((X - theta_1) ** 2) / (var_1_X), 1))\n",
    "\n",
    "    p_walk_log = int(n_ij_1  - max(n_ij_1[0], n_ij_0[0]))\n",
    "    if (p_walk_log > -69):\n",
    "        print(\"Walking\")\n",
    "\n",
    "    p_walk = math.exp(p_walk_log/100)\n",
    "    print(f\"P(Walking) = {p_walk:.2f}, PLL(W) = {p_walk_log/100:.2f}\")\n",
    "\n",
    "test_A_X(walking_test)\n",
    "test_A_X(none_test)\n",
    "\n",
    "print(nij_0_p_X.tolist())\n",
    "print(var_0_X.tolist())\n",
    "print(theta_0.tolist())\n",
    "\n",
    "print(nij_1_p_X.tolist())\n",
    "print(var_1_X.tolist())\n",
    "print(theta_1.tolist())"
   ]
  },
  {
   "cell_type": "code",
   "execution_count": 98,
   "metadata": {},
   "outputs": [
    {
     "data": {
      "text/plain": [
       "array([[4.99067133e-151, 1.00000000e+000],\n",
       "       [9.99999888e-001, 1.12409810e-007],\n",
       "       [9.99999999e-001, 9.47009670e-010],\n",
       "       [9.99999999e-001, 6.95122459e-010],\n",
       "       [9.99999999e-001, 1.40585364e-009],\n",
       "       [9.89278741e-001, 1.07212592e-002],\n",
       "       [1.18776717e-053, 1.00000000e+000],\n",
       "       [5.86978463e-082, 1.00000000e+000],\n",
       "       [2.55290062e-052, 1.00000000e+000],\n",
       "       [9.58888794e-011, 1.00000000e+000],\n",
       "       [8.68086572e-002, 9.13191343e-001],\n",
       "       [9.57740237e-024, 1.00000000e+000],\n",
       "       [8.55376401e-047, 1.00000000e+000],\n",
       "       [5.68787404e-030, 1.00000000e+000],\n",
       "       [2.60930596e-027, 1.00000000e+000],\n",
       "       [1.91188114e-014, 1.00000000e+000],\n",
       "       [7.57768422e-054, 1.00000000e+000],\n",
       "       [4.81408155e-043, 1.00000000e+000],\n",
       "       [2.63746238e-041, 1.00000000e+000],\n",
       "       [2.38822034e-032, 1.00000000e+000],\n",
       "       [3.14784810e-082, 1.00000000e+000],\n",
       "       [1.26208893e-038, 1.00000000e+000],\n",
       "       [1.52402237e-045, 1.00000000e+000],\n",
       "       [0.00000000e+000, 1.00000000e+000],\n",
       "       [1.00000000e+000, 1.64509495e-017],\n",
       "       [1.00000000e+000, 1.77082154e-030],\n",
       "       [1.00000000e+000, 1.82500081e-030],\n",
       "       [1.00000000e+000, 2.14026233e-030],\n",
       "       [1.00000000e+000, 1.70283106e-030]])"
      ]
     },
     "execution_count": 98,
     "metadata": {},
     "output_type": "execute_result"
    }
   ],
   "source": [
    "y_pred_prob = gnb.predict_proba(test)\n",
    "y_pred_prob"
   ]
  },
  {
   "cell_type": "code",
   "execution_count": 99,
   "metadata": {},
   "outputs": [
    {
     "name": "stdout",
     "output_type": "stream",
     "text": [
      "0 -> 1.000 vs 1.000\n",
      "-1082 -> 0.000 vs 0.000\n",
      "-1564 -> 0.000 vs 0.000\n",
      "-1595 -> 0.000 vs 0.000\n",
      "-1524 -> 0.000 vs 0.000\n",
      "0 -> 1.000 vs 0.011\n",
      "0 -> 1.000 vs 1.000\n",
      "0 -> 1.000 vs 1.000\n",
      "0 -> 1.000 vs 1.000\n",
      "0 -> 1.000 vs 1.000\n",
      "0 -> 1.000 vs 0.913\n",
      "0 -> 1.000 vs 1.000\n",
      "0 -> 1.000 vs 1.000\n",
      "0 -> 1.000 vs 1.000\n",
      "0 -> 1.000 vs 1.000\n",
      "0 -> 1.000 vs 1.000\n",
      "0 -> 1.000 vs 1.000\n",
      "0 -> 1.000 vs 1.000\n",
      "0 -> 1.000 vs 1.000\n",
      "0 -> 1.000 vs 1.000\n",
      "0 -> 1.000 vs 1.000\n",
      "0 -> 1.000 vs 1.000\n",
      "0 -> 1.000 vs 1.000\n",
      "0 -> 1.000 vs 1.000\n",
      "-3327 -> 0.000 vs 0.000\n",
      "-6339 -> 0.000 vs 0.000\n",
      "-6336 -> 0.000 vs 0.000\n",
      "-6320 -> 0.000 vs 0.000\n",
      "-6343 -> 0.000 vs 0.000\n"
     ]
    }
   ],
   "source": [
    "def test_A_X_quiet(X):\n",
    "    # Class 0\n",
    "    n_ij_0 = np.int0(nij_0_p_X - 0.5*np.sum(((X - theta_0) ** 2) / (var_0_X), 1))\n",
    "\n",
    "    # Class 1\n",
    "    n_ij_1 = np.int0(nij_1_p_X - 0.5 * np.sum(((X - theta_1) ** 2) / (var_1_X), 1))\n",
    "\n",
    "    p_walk_log = int(n_ij_1  - max(n_ij_1[0], n_ij_0[0]))\n",
    "    return p_walk_log\n",
    "\n",
    "for index, row in test.iterrows():\n",
    "    x = row.to_frame()\n",
    "    q = test_A_X_quiet(x.T)\n",
    "    print(f\"{q} -> {math.exp(q/100):0.3f} vs {y_pred_prob[index][1]:0.3f}\")"
   ]
  },
  {
   "cell_type": "code",
   "execution_count": 91,
   "metadata": {},
   "outputs": [
    {
     "data": {
      "text/html": [
       "<div>\n",
       "<style scoped>\n",
       "    .dataframe tbody tr th:only-of-type {\n",
       "        vertical-align: middle;\n",
       "    }\n",
       "\n",
       "    .dataframe tbody tr th {\n",
       "        vertical-align: top;\n",
       "    }\n",
       "\n",
       "    .dataframe thead th {\n",
       "        text-align: right;\n",
       "    }\n",
       "</style>\n",
       "<table border=\"1\" class=\"dataframe\">\n",
       "  <thead>\n",
       "    <tr style=\"text-align: right;\">\n",
       "      <th></th>\n",
       "      <th>E(X) LP</th>\n",
       "      <th>E(Y) LP</th>\n",
       "      <th>E(Z) LP</th>\n",
       "      <th>E(X) HP</th>\n",
       "      <th>E(Y) HP</th>\n",
       "      <th>E(Z) HP</th>\n",
       "      <th>Var HP X</th>\n",
       "      <th>Var HP Y</th>\n",
       "      <th>Var HP Z</th>\n",
       "      <th>MinMax X</th>\n",
       "      <th>MinMax Y</th>\n",
       "      <th>MinMax Z</th>\n",
       "    </tr>\n",
       "  </thead>\n",
       "  <tbody>\n",
       "    <tr>\n",
       "      <th>36</th>\n",
       "      <td>-640</td>\n",
       "      <td>1770</td>\n",
       "      <td>653</td>\n",
       "      <td>-241</td>\n",
       "      <td>-515</td>\n",
       "      <td>486</td>\n",
       "      <td>251154</td>\n",
       "      <td>150094</td>\n",
       "      <td>318157</td>\n",
       "      <td>-1685</td>\n",
       "      <td>-1352</td>\n",
       "      <td>-397</td>\n",
       "    </tr>\n",
       "  </tbody>\n",
       "</table>\n",
       "</div>"
      ],
      "text/plain": [
       "    E(X) LP  E(Y) LP  E(Z) LP  E(X) HP  E(Y) HP  E(Z) HP  Var HP X  Var HP Y  \\\n",
       "36     -640     1770      653     -241     -515      486    251154    150094   \n",
       "\n",
       "    Var HP Z  MinMax X  MinMax Y  MinMax Z  \n",
       "36    318157     -1685     -1352      -397  "
      ]
     },
     "execution_count": 91,
     "metadata": {},
     "output_type": "execute_result"
    }
   ],
   "source": [
    "walking_test"
   ]
  },
  {
   "cell_type": "code",
   "execution_count": 135,
   "metadata": {},
   "outputs": [
    {
     "data": {
      "image/png": "[encoded data removed]",
      "text/plain": [
       "<Figure size 432x288 with 12 Axes>"
      ]
     },
     "metadata": {
      "needs_background": "light"
     },
     "output_type": "display_data"
    },
    {
     "data": {
      "image/png": "[encoded data removed]",
      "text/plain": [
       "<Figure size 432x288 with 12 Axes>"
      ]
     },
     "metadata": {
      "needs_background": "light"
     },
     "output_type": "display_data"
    }
   ],
   "source": [
    "walking2.hist(bins=20, color='tab:blue', edgecolor='black', linewidth=1.0,\n",
    "           xlabelsize=8, ylabelsize=8, grid=False)    \n",
    "plt.tight_layout(rect=(0, 0, 1.2, 1.2))\n",
    "\n",
    "none1.hist(bins=20, color='tab:orange', edgecolor='black', linewidth=1.0,\n",
    "           xlabelsize=8, ylabelsize=8, grid=False)    \n",
    "plt.tight_layout(rect=(0, 0, 1.2, 1.2))"
   ]
  },
  {
   "cell_type": "code",
   "execution_count": 150,
   "metadata": {},
   "outputs": [
    {
     "name": "stderr",
     "output_type": "stream",
     "text": [
      "/tmp/ipykernel_14313/3900372039.py:19: VisibleDeprecationWarning: Creating an ndarray from ragged nested sequences (which is a list-or-tuple of lists-or-tuples-or ndarrays with different lengths or shapes) is deprecated. If you meant to do this, you must specify 'dtype=object' when creating the ndarray.\n",
      "  x = np.array([w[vars[i]].to_numpy(), n[vars[i]].to_numpy()])\n"
     ]
    },
    {
     "data": {
      "image/png": "[encoded data removed]",
      "text/plain": [
       "<Figure size 720x432 with 12 Axes>"
      ]
     },
     "metadata": {
      "needs_background": "light"
     },
     "output_type": "display_data"
    }
   ],
   "source": [
    "import numpy as np\n",
    "import matplotlib.pyplot as plt\n",
    "\n",
    "vars = [\"E(X) LP\",\"E(Y) LP\",\"E(Z) LP\",\"E(X) HP\",\"E(Y) HP\",\"E(Z) HP\",\"Var HP X\",\"Var HP Y\",\"Var HP Z\",\"MinMax X\",\"MinMax Y\",\"MinMax Z\"]\n",
    "w = pd.concat([walking1, walking2])\n",
    "n = pd.concat([none1, none2])\n",
    "labels = [\"Walking\", \"None\"]\n",
    "\n",
    "\n",
    "n_bins = 20\n",
    "colors = ['tab:blue', 'tab:orange']\n",
    "ax = [None for i in range(12)]\n",
    "\n",
    "fig, ((ax[0], ax[1], ax[2]), (ax[3], ax[4], ax[5]), (ax[6], ax[7], ax[8]), (ax[9], ax[10], ax[11])) = plt.subplots(nrows=4, ncols=3,)\n",
    "\n",
    "\n",
    "for i in range(0, 12):\n",
    "\n",
    "    x = np.array([w[vars[i]].to_numpy(), n[vars[i]].to_numpy()])\n",
    "    ax[i].hist(x, n_bins, histtype='bar', density=True, rwidth=1)\n",
    "    ax[i].set_title(vars[i])\n",
    "\n",
    "fig.set_size_inches(10, 6)\n",
    "plt.tight_layout()\n",
    "plt.savefig(\"Histogram.png\", transparent=False, dpi=150)\n",
    "plt.show()\n"
   ]
  },
  {
   "cell_type": "code",
   "execution_count": 109,
   "metadata": {},
   "outputs": [
    {
     "data": {
      "text/plain": [
       "array([109128, 512312, 454509, 358508, 406566, 273813, 283289,  91966,\n",
       "       233759, 309383, 381499, 364475, 273735, 363230, 416151, 321363,\n",
       "       104476, 305067, 471250, 398969, 186035, 316678, 366603, 357841,\n",
       "       139197, 164754, 143485, 151202, 122188, 175515, 177298, 359767,\n",
       "       392921, 375707, 136594, 312163, 336860, 323527, 358257, 187740,\n",
       "       318020, 543439, 455363, 223151, 318768, 379809, 384270, 251537,\n",
       "       121788, 414898, 435186, 612896, 278124, 375479, 403499, 399677,\n",
       "       198791, 362917, 477797, 373372, 171284, 208952, 156849, 154317,\n",
       "       229705, 219402, 197699,    605,   1297,  46978, 221240, 363215,\n",
       "       156108, 208393, 196807, 311132, 240827, 210204, 360009, 315232,\n",
       "       221654, 134435, 252064, 233764, 320680,  29466, 201369, 134076,\n",
       "       215596, 105717, 128530, 209390, 229849, 308098, 142909, 218094,\n",
       "       197703, 217839, 145617, 146102, 196391, 213965, 194334, 150094])"
      ]
     },
     "execution_count": 109,
     "metadata": {},
     "output_type": "execute_result"
    }
   ],
   "source": [
    "w.to_numpy()"
   ]
  },
  {
   "cell_type": "code",
   "execution_count": 116,
   "metadata": {},
   "outputs": [
    {
     "name": "stderr",
     "output_type": "stream",
     "text": [
      "/tmp/ipykernel_14313/3205572889.py:1: VisibleDeprecationWarning: Creating an ndarray from ragged nested sequences (which is a list-or-tuple of lists-or-tuples-or ndarrays with different lengths or shapes) is deprecated. If you meant to do this, you must specify 'dtype=object' when creating the ndarray.\n",
      "  x = np.array([w.to_numpy(), n.to_numpy()])\n"
     ]
    }
   ],
   "source": [
    "\n"
   ]
  },
  {
   "cell_type": "code",
   "execution_count": 117,
   "metadata": {},
   "outputs": [],
   "source": [
    "\n",
    "\n"
   ]
  },
  {
   "cell_type": "code",
   "execution_count": 30,
   "metadata": {},
   "outputs": [
    {
     "name": "stdout",
     "output_type": "stream",
     "text": [
      "a: 1, b: 100\n",
      "a: 3, b: 400\n",
      "a: 1, b: 100\n",
      "a:2, b:400\n",
      "a:7, b:400\n"
     ]
    }
   ],
   "source": [
    "class pair(object):\n",
    "    def __init__(self, a, b) -> None:\n",
    "        self.a = a\n",
    "        self.b = b\n",
    "\n",
    "    def __repr__(self) -> str:\n",
    "        return f\"a: {self.a}, b: {self.b}\"\n",
    "    \n",
    "    def __add__(self, other):\n",
    "        return pair(self.a + other.a, self.b + other.b)\n",
    "    \n",
    "\n",
    "pair_one = pair(1,100)\n",
    "pair_two = pair(3,400)\n",
    "\n",
    "\n"
   ]
  },
  {
   "cell_type": "code",
   "execution_count": null,
   "metadata": {},
   "outputs": [],
   "source": []
  }
 ],
 "metadata": {
  "kernelspec": {
   "display_name": "Python 3",
   "language": "python",
   "name": "python3"
  },
  "language_info": {
   "codemirror_mode": {
    "name": "ipython",
    "version": 3
   },
   "file_extension": ".py",
   "mimetype": "text/x-python",
   "name": "python",
   "nbconvert_exporter": "python",
   "pygments_lexer": "ipython3",
   "version": "3.10.6"
  },
  "orig_nbformat": 4,
  "vscode": {
   "interpreter": {
    "hash": "916dbcbb3f70747c44a77c7bcd40155683ae19c65e1c03b4aa3499c5328201f1"
   }
  }
 },
 "nbformat": 4,
 "nbformat_minor": 2
}
